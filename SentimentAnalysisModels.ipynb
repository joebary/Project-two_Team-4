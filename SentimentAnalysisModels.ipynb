{
 "cells": [
  {
   "cell_type": "markdown",
   "id": "109a09e2",
   "metadata": {},
   "source": [
    "\"Robo Advisor with Sentiment Analysis\""
   ]
  },
  {
   "cell_type": "markdown",
   "id": "e97861e4",
   "metadata": {},
   "source": [
    "This project is dictatated by the following specificities:\n",
    "\n",
    "1. This project implements an unsupervised learning approach. This involves using a rule-based approach to analyze a comment. On the contrary, a supervised learning approach is a classification model that involves using traditional machine learning or deep learning methods.\n",
    "\n",
    "2. This project implements three libraries that follow lexical-based approach. Specifically, this project implements the TextBlob, VADER and IBM Watson libraries. While TextBlob and NLTK-VADER are open-source, IBM Watson is a paid library but allows one to access the API on trial basis for a few thousand times."
   ]
  },
  {
   "cell_type": "markdown",
   "id": "176001bf",
   "metadata": {},
   "source": [
    "Getting to know the libraries:\n",
    "\n",
    "- IBM Watson Natural Language Understanding: Analyze various features of text content at scale. Provide text, raw HTML, or a public URL and IBM Watson Natural Language Understanding will give you results for the features you request. The service cleans HTML content before analysis by default, so the results can ignore most advertisements and other unwanted content. Natural Language Understanding includes a set of text analytics features that you can use to extract meaning from unstructured data.\n",
    "\n",
    "- TextBlob: A Python-based open-source library that can be used to perform sentiment analysis effectively.\n",
    "\n",
    "- NLTK-VADER: VADER or Valence Aware Dictionary and Sentiment Reasoner is a rule/lexicon-based, open-source sentiment analyzer pre-built library, protected under the MIT liscence "
   ]
  },
  {
   "cell_type": "code",
   "execution_count": null,
   "id": "ee2ce648",
   "metadata": {},
   "outputs": [],
   "source": []
  },
  {
   "cell_type": "markdown",
   "id": "f91ad916",
   "metadata": {},
   "source": [
    "Required libraries and dependencies"
   ]
  },
  {
   "cell_type": "code",
   "execution_count": 1,
   "id": "c16161c9",
   "metadata": {},
   "outputs": [
    {
     "data": {
      "text/plain": [
       "True"
      ]
     },
     "execution_count": 1,
     "metadata": {},
     "output_type": "execute_result"
    }
   ],
   "source": [
    "# import required libraries and dependencies\n",
    "\n",
    "import pandas as pd\n",
    "import requests\n",
    "import json\n",
    "import os\n",
    "from dotenv import load_dotenv\n",
    "\n",
    "# Load .env environment variables\n",
    "load_dotenv()"
   ]
  },
  {
   "cell_type": "code",
   "execution_count": null,
   "id": "f32bcc84",
   "metadata": {},
   "outputs": [],
   "source": []
  },
  {
   "cell_type": "markdown",
   "id": "d16a3335",
   "metadata": {},
   "source": [
    "The IBM Watson Natural Language Understanding (NLU) Library"
   ]
  },
  {
   "cell_type": "markdown",
   "id": "1b9545bc",
   "metadata": {},
   "source": [
    "Note: To guage the results, you will have to keep looking at thescore that is returned as a result. If the score is greater than 0, then the sentiment is considered to be positive, else negative."
   ]
  },
  {
   "cell_type": "code",
   "execution_count": 6,
   "id": "6d4889e2",
   "metadata": {},
   "outputs": [
    {
     "ename": "SyntaxError",
     "evalue": "EOL while scanning string literal (<ipython-input-6-1be16e0ac787>, line 8)",
     "output_type": "error",
     "traceback": [
      "\u001b[0;36m  File \u001b[0;32m\"<ipython-input-6-1be16e0ac787>\"\u001b[0;36m, line \u001b[0;32m8\u001b[0m\n\u001b[0;31m    watson_nlu_api='WATSON_NLU_API’,\u001b[0m\n\u001b[0m                                    ^\u001b[0m\n\u001b[0;31mSyntaxError\u001b[0m\u001b[0;31m:\u001b[0m EOL while scanning string literal\n"
     ]
    }
   ],
   "source": [
    "# importing the IBM Watson Natural Language Understanding library\n",
    "\n",
    "from watson_developer_cloud import NaturalLanguageUnderstandingV1\n",
    "from watson_developer_cloud.natural_language_understanding_v1 import Features, EntitiesOptions, KeywordsOptions, SentimentOptions, CategoriesOptions\n",
    "\n",
    "natural_language_understanding = NaturalLanguageUnderstandingV1(                                         \n",
    "    version='2018-11-16',\n",
    "    watson_nlu_api='WATSON_NLU_API’,\n",
    "    watson_nlu_url='WATSON_NLU_URL’\n",
    "    )"
   ]
  },
  {
   "cell_type": "code",
   "execution_count": 7,
   "id": "44ed8170",
   "metadata": {},
   "outputs": [],
   "source": [
    "# Defining a sentiment_score function\n",
    "\n",
    "def Sentiment_score(input_text): \n",
    "    # Input text can be sentence, paragraph or document\n",
    "    response = natural_language_understanding.analyze (\n",
    "    text = input_text,\n",
    "    features = Features(sentiment=SentimentOptions())).get_result()\n",
    "    # From the response extract score which is between -1 to 1\n",
    "    res = response.get('sentiment').get('document').get('score')\n",
    "    return res"
   ]
  },
  {
   "cell_type": "code",
   "execution_count": null,
   "id": "8c3a04b8",
   "metadata": {},
   "outputs": [],
   "source": []
  },
  {
   "cell_type": "code",
   "execution_count": null,
   "id": "91fa48fe",
   "metadata": {},
   "outputs": [],
   "source": []
  },
  {
   "cell_type": "markdown",
   "id": "c5a26ff3",
   "metadata": {},
   "source": [
    "The TextBlob library"
   ]
  },
  {
   "cell_type": "markdown",
   "id": "366ba5ec",
   "metadata": {},
   "source": [
    "Note: TextBlob's sentiment function returns tuple, polarity, and subjectivity and the polarity score floats within the range of -1 and 1 where anything greater than 0 is positive and below 0 is negative."
   ]
  },
  {
   "cell_type": "code",
   "execution_count": 1,
   "id": "605d0398",
   "metadata": {},
   "outputs": [],
   "source": [
    "# importing the TextBlob library\n",
    "\n",
    "from textblob import TextBlob\n",
    "# Get the polarity score using below function\n",
    "def get_textBlob_score(sent):\n",
    "    # This polarity score is between -1 to 1\n",
    "    polarity = TextBlob(sent).sentiment.polarity\n",
    "    return polarity"
   ]
  },
  {
   "cell_type": "code",
   "execution_count": null,
   "id": "d71b31ce",
   "metadata": {},
   "outputs": [],
   "source": []
  },
  {
   "cell_type": "code",
   "execution_count": null,
   "id": "299225ff",
   "metadata": {},
   "outputs": [],
   "source": []
  },
  {
   "cell_type": "code",
   "execution_count": null,
   "id": "92ac4e63",
   "metadata": {},
   "outputs": [],
   "source": []
  },
  {
   "cell_type": "markdown",
   "id": "ec97bfd4",
   "metadata": {},
   "source": [
    "The NLTK-VADER library"
   ]
  },
  {
   "cell_type": "markdown",
   "id": "4aeca69b",
   "metadata": {},
   "source": [
    "Note: VADER's sentiment analyzer class will return the polarity score in dictionary format which will help in evaluating the probability of a positive, negative or neutral sentiment. If there is more probability of positive, then predictive label can be given to positive sentiment, else negative."
   ]
  },
  {
   "cell_type": "code",
   "execution_count": 2,
   "id": "971b3afc",
   "metadata": {},
   "outputs": [
    {
     "name": "stderr",
     "output_type": "stream",
     "text": [
      "[nltk_data] Downloading package vader_lexicon to\n",
      "[nltk_data]     /Users/henrywilcox/nltk_data...\n"
     ]
    },
    {
     "data": {
      "text/plain": [
       "True"
      ]
     },
     "execution_count": 2,
     "metadata": {},
     "output_type": "execute_result"
    }
   ],
   "source": [
    "# importing the VADER package and download NLTK wrapper for VADER library\n",
    "\n",
    "import nltk\n",
    "nltk.download('vader_lexicon')"
   ]
  },
  {
   "cell_type": "code",
   "execution_count": 3,
   "id": "c6866a61",
   "metadata": {},
   "outputs": [],
   "source": [
    "# import the downloaded NLTK-based VADER library and acquire the sentiment score for available input or dataset\n",
    "\n",
    "from nltk.sentiment.vader import SentimentIntensityAnalyzer\n",
    "sid = SentimentIntensityAnalyzer()\n",
    "def get_vader_score(sent):\n",
    "    # Polarity score returns dictionary\n",
    "    ss = sid.polarity_scores(sent)\n",
    "    for k in sorted(ss):\n",
    "        print('{0}: {1}, '.format(k, ss[k]), end='')\n",
    "        print()"
   ]
  },
  {
   "cell_type": "code",
   "execution_count": null,
   "id": "526f0034",
   "metadata": {},
   "outputs": [],
   "source": []
  }
 ],
 "metadata": {
  "kernelspec": {
   "display_name": "Python (dev)",
   "language": "python",
   "name": "dev"
  },
  "language_info": {
   "codemirror_mode": {
    "name": "ipython",
    "version": 3
   },
   "file_extension": ".py",
   "mimetype": "text/x-python",
   "name": "python",
   "nbconvert_exporter": "python",
   "pygments_lexer": "ipython3",
   "version": "3.7.10"
  }
 },
 "nbformat": 4,
 "nbformat_minor": 5
}
